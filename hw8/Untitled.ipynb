{
 "cells": [
  {
   "cell_type": "code",
   "execution_count": 1,
   "id": "e0f1f80d",
   "metadata": {},
   "outputs": [],
   "source": [
    "import numpy as np\n",
    "import cv2\n",
    "import matplotlib.pyplot as plt\n",
    "from PIL import Image as img\n",
    "import math\n",
    "\n",
    "lena=img.open('lena.bmp')\n",
    "image = np.asarray(lena)"
   ]
  },
  {
   "cell_type": "code",
   "execution_count": 2,
   "id": "266ed570",
   "metadata": {},
   "outputs": [],
   "source": [
    "def gaussian_noise(img, amplitude):\n",
    "    noise = np.random.normal(0, 1, img.shape)\n",
    "    noisy_image = np.clip(img + amplitude * noise, 0, 255)\n",
    "    return noisy_image"
   ]
  },
  {
   "cell_type": "code",
   "execution_count": 44,
   "id": "62fbe046",
   "metadata": {},
   "outputs": [
    {
     "name": "stdout",
     "output_type": "stream",
     "text": [
      "a10 (gaussian_noise 10):  13.599607807300009\n",
      "a30 (gaussian_noise 30):  4.175409439774651\n"
     ]
    }
   ],
   "source": [
    "a10 = gaussian_noise(image, 10)\n",
    "A = calculate_snr(image, a10)\n",
    "cv2.imwrite('a10.png', np.array(a10, dtype='uint8'))\n",
    "print(\"a10 (gaussian_noise 10): \", A)\n",
    "\n",
    "a30 = gaussian_noise(image, 30)\n",
    "A = calculate_snr(image, a30)\n",
    "cv2.imwrite('a30.png', np.array(a30, dtype='uint8'))\n",
    "print(\"a30 (gaussian_noise 30): \", A)"
   ]
  },
  {
   "cell_type": "code",
   "execution_count": 4,
   "id": "1cc8c694",
   "metadata": {},
   "outputs": [],
   "source": [
    "def p_and_s(img,thrs):\n",
    "    noisy_image = img.copy()\n",
    "    noise = np.random.uniform(0, 1, img.shape)\n",
    "    for i in range(img.shape[0]):\n",
    "        for j in range(img.shape[1]):\n",
    "            if noise[i,j] < thrs:\n",
    "                noisy_image[i][j] = 0\n",
    "            elif noise[i,j] > 1-thrs:\n",
    "                noisy_image[i][j] = 255\n",
    "    return noisy_image\n",
    "            "
   ]
  },
  {
   "cell_type": "code",
   "execution_count": 45,
   "id": "2c9d223e",
   "metadata": {},
   "outputs": [
    {
     "name": "stdout",
     "output_type": "stream",
     "text": [
      "b005 (pepper_and_salt 0.05):  0.8960475845022507\n",
      "b01 (pepper_and_salt 0.1):  -2.097107355917343\n"
     ]
    }
   ],
   "source": [
    "b005 = p_and_s(image,0.05)\n",
    "A = calculate_snr(image, b005)\n",
    "cv2.imwrite('b005.png', np.array(b005, dtype='uint8'))\n",
    "print(\"b005 (pepper_and_salt 0.05): \", A)\n",
    "\n",
    "b01 = p_and_s(image,0.1)\n",
    "A = calculate_snr(image, b01)\n",
    "cv2.imwrite('b01.png', np.array(b01, dtype='uint8'))\n",
    "print(\"b01 (pepper_and_salt 0.1): \", A)"
   ]
  },
  {
   "cell_type": "code",
   "execution_count": 6,
   "id": "dd426eb2",
   "metadata": {},
   "outputs": [],
   "source": [
    "def box_filter3(img):\n",
    "    filtered_image = img.copy()\n",
    "    print(img[3,5])\n",
    "    tmp = 0\n",
    "    for i in range(1,img.shape[0]-1):\n",
    "        for j in range(1,img.shape[1]-1):\n",
    "            tmp = np.sum(img[i-1:i+2, j-1:j+2]) // 9\n",
    "            filtered_image[i, j] = tmp\n",
    "    return filtered_image"
   ]
  },
  {
   "cell_type": "code",
   "execution_count": 7,
   "id": "08e87bbd",
   "metadata": {},
   "outputs": [],
   "source": [
    "def box_filter5(img):\n",
    "    filtered_image = img.copy()\n",
    "    for i in range(2, img.shape[0] - 2):\n",
    "        for j in range(2, img.shape[1] - 2):\n",
    "            tmp = np.sum(img[i-2:i+3, j-2:j+3]) // 25 \n",
    "            filtered_image[i, j] = tmp\n",
    "    return filtered_image"
   ]
  },
  {
   "cell_type": "code",
   "execution_count": 8,
   "id": "5cd442c2",
   "metadata": {},
   "outputs": [],
   "source": [
    "def median_filter3(img):\n",
    "    filtered_image = img.copy()\n",
    "    for i in range(1,img.shape[0]-1):\n",
    "        for j in range(1,img.shape[1]-1):\n",
    "            filtered_image[i, j] = np.median(img[i-1:i+2, j-1:j+2])\n",
    "    return filtered_image"
   ]
  },
  {
   "cell_type": "code",
   "execution_count": 9,
   "id": "cdab772c",
   "metadata": {},
   "outputs": [],
   "source": [
    "def median_filter5(img):\n",
    "    filtered_image = img.copy()\n",
    "    for i in range(2, img.shape[0] - 2):\n",
    "        for j in range(2, img.shape[1] - 2):\n",
    "            filtered_image[i, j] = np.median(img[i-2:i+3, j-2:j+3])\n",
    "    return filtered_image"
   ]
  },
  {
   "cell_type": "code",
   "execution_count": 10,
   "id": "dfce3908",
   "metadata": {},
   "outputs": [],
   "source": [
    "structure = [[-2, -1], [-2, 0], [-2, 1],\n",
    "[-1, -2], [-1, -1], [-1, 0], [-1, 1], [-1, 2],\n",
    "[0, -2],  [0, -1], [0, 0], [0, 1], [0, 2],\n",
    "[1, -2],  [1, -1], [1, 0], [1, 1], [1, 2],\n",
    "          [2, -1], [2, 0], [2, 1]]\n",
    "\n",
    "def dilation(lena_arr, structure):\n",
    "    lena_dilation = np.zeros_like(lena_arr, dtype=np.uint8)\n",
    "    for i in range(lena_arr.shape[0]):\n",
    "        for j in range(lena_arr.shape[1]):\n",
    "            \n",
    "            max_value = 0\n",
    "            for element in structure:\n",
    "                new_i = i + element[0]\n",
    "                new_j = j + element[1]\n",
    "                if 0 <= new_i < lena_arr.shape[0] and 0 <= new_j < lena_arr.shape[1]:\n",
    "                    max_value = max(max_value, lena_arr[new_i, new_j])\n",
    "            lena_dilation[i, j] = max_value \n",
    "    return lena_dilation\n",
    "\n",
    "def erosion(lena_arr, structure):\n",
    "    lena_erosion = np.zeros_like(lena_arr, dtype=np.uint8)\n",
    "    for i in range(lena_arr.shape[0]):\n",
    "        for j in range(lena_arr.shape[1]):\n",
    "            \n",
    "            min_value = 255\n",
    "            for element in structure:\n",
    "                new_i = i + element[0]\n",
    "                new_j = j + element[1]\n",
    "                if 0 <= new_i < lena_arr.shape[0] and 0 <= new_j < lena_arr.shape[1]:\n",
    "                    min_value = min(min_value, lena_arr[new_i, new_j])\n",
    "            lena_erosion[i, j] = min_value\n",
    "    return lena_erosion\n"
   ]
  },
  {
   "cell_type": "code",
   "execution_count": 18,
   "id": "7513c457",
   "metadata": {},
   "outputs": [],
   "source": [
    "def opening(img):\n",
    "    lena_opening = dilation(erosion(img, structure), structure)\n",
    "    return lena_opening\n",
    "def closing(img):\n",
    "    lena_closing = erosion(dilation(img, structure), structure) \n",
    "    return lena_closing"
   ]
  },
  {
   "cell_type": "code",
   "execution_count": 37,
   "id": "aee8f514",
   "metadata": {},
   "outputs": [],
   "source": [
    "\n",
    "def calculate_snr(original, noisy):\n",
    "    original_normalized = original.astype(np.float64) / 255.0\n",
    "    noisy_normalized = noisy.astype(np.float64) / 255.0\n",
    "    mean = 0\n",
    "    mean_n = 0\n",
    "    size = noisy.shape[0] * noisy.shape[1]\n",
    "    for i in range(noisy.shape[0]):\n",
    "        for j in range(noisy.shape[1]):\n",
    "            mean += original_normalized[i,j]\n",
    "            mean_n += noisy_normalized[i,j] - original_normalized[i,j]\n",
    "    mean /= size\n",
    "    mean_n /= size\n",
    "    \n",
    "    vs = 0\n",
    "    vn = 0\n",
    "    for i in range(noisy.shape[0]):\n",
    "        for j in range(noisy.shape[1]):\n",
    "            vs += (original_normalized[i,j] - mean) ** 2\n",
    "            vn += (noisy_normalized[i,j] - original_normalized[i,j] - mean_n) ** 2\n",
    "    vs /= size\n",
    "    vn /= size\n",
    "    \n",
    "    snr = 20 * np.log10(vs ** 0.5 / vn ** 0.5)\n",
    "    \n",
    "    return snr\n"
   ]
  },
  {
   "cell_type": "code",
   "execution_count": 40,
   "id": "988717f1",
   "metadata": {},
   "outputs": [
    {
     "name": "stdout",
     "output_type": "stream",
     "text": [
      "142.20354188056746\n",
      "a10_1 (3x3 Box Filter):  17.658119746464237\n",
      "a10_2 (5x5 Box Filter):  14.796591487541546\n",
      "a10_3 (3x3 Median Filter):  17.58395091475316\n",
      "a10_4 (5x5 Median Filter):  15.908868633113869\n",
      "a10_5 (Morphological Opening):  13.690682690993858\n",
      "a10_6 (Morphological Closing):  14.97542132770879\n"
     ]
    }
   ],
   "source": [
    "# 3x3 Box Filter\n",
    "a10_1 = box_filter3(a10)\n",
    "A1 = calculate_snr(image, a10_1)\n",
    "cv2.imwrite('a10_1.png', np.array(a10_1, dtype='uint8'))\n",
    "print(\"a10_1 (3x3 Box Filter): \", A1)\n",
    "\n",
    "# 5x5 Box Filter\n",
    "a10_2 = box_filter5(a10)\n",
    "A2 = calculate_snr(image, a10_2)\n",
    "cv2.imwrite('a10_2.png', np.array(a10_2, dtype='uint8'))\n",
    "print(\"a10_2 (5x5 Box Filter): \", A2)\n",
    "\n",
    "# 3x3 Median Filter\n",
    "a10_3 = median_filter3(a10)\n",
    "A3 = calculate_snr(image, a10_3)\n",
    "cv2.imwrite('a10_3.png', np.array(a10_3, dtype='uint8'))\n",
    "print(\"a10_3 (3x3 Median Filter): \", A3)\n",
    "\n",
    "# 5x5 Median Filter\n",
    "a10_4 = median_filter5(a10)\n",
    "A4 = calculate_snr(image, a10_4)\n",
    "cv2.imwrite('a10_4.png', np.array(a10_4, dtype='uint8'))\n",
    "print(\"a10_4 (5x5 Median Filter): \", A4)\n",
    "\n",
    "# Morphological Opening\n",
    "a10_5 = opening(a10)\n",
    "A5 = calculate_snr(image, a10_5)\n",
    "cv2.imwrite('a10_5.png', np.array(a10_5, dtype='uint8'))\n",
    "print(\"a10_5 (Morphological Opening): \", A5)\n",
    "\n",
    "# Morphological Closing\n",
    "a10_6 = closing(a10)\n",
    "A6 = calculate_snr(image, a10_6)\n",
    "cv2.imwrite('a10_6.png', np.array(a10_6, dtype='uint8'))\n",
    "print(\"a10_6 (Morphological Closing): \", A6)\n"
   ]
  },
  {
   "cell_type": "code",
   "execution_count": 41,
   "id": "6d037a5c",
   "metadata": {},
   "outputs": [
    {
     "name": "stdout",
     "output_type": "stream",
     "text": [
      "120.41800907676677\n",
      "a30_1 (3x3 Box Filter):  12.41382720956453\n",
      "a30_2 (5x5 Box Filter):  12.840224902189696\n",
      "a30_3 (3x3 Median Filter):  10.947424658288522\n",
      "a30_4 (5x5 Median Filter):  12.477912257006551\n",
      "a30_5 (Morphological Opening):  10.343192412496174\n",
      "a30_6 (Morphological Closing):  10.566156782440409\n"
     ]
    }
   ],
   "source": [
    "# 3x3 Box Filter\n",
    "a30_1 = box_filter3(a30)\n",
    "A1 = calculate_snr(image, a30_1)\n",
    "cv2.imwrite('a30_1.png', np.array(a30_1, dtype='uint8'))\n",
    "print(\"a30_1 (3x3 Box Filter): \", A1)\n",
    "\n",
    "# 5x5 Box Filter\n",
    "a30_2 = box_filter5(a30)\n",
    "A2 = calculate_snr(image, a30_2)\n",
    "cv2.imwrite('a30_2.png', np.array(a30_2, dtype='uint8'))\n",
    "print(\"a30_2 (5x5 Box Filter): \", A2)\n",
    "\n",
    "# 3x3 Median Filter\n",
    "a30_3 = median_filter3(a30)\n",
    "A3 = calculate_snr(image, a30_3)\n",
    "cv2.imwrite('a30_3.png', np.array(a30_3, dtype='uint8'))\n",
    "print(\"a30_3 (3x3 Median Filter): \", A3)\n",
    "\n",
    "# 5x5 Median Filter\n",
    "a30_4 = median_filter5(a30)\n",
    "A4 = calculate_snr(image, a30_4)\n",
    "cv2.imwrite('a30_4.png', np.array(a30_4, dtype='uint8'))\n",
    "print(\"a30_4 (5x5 Median Filter): \", A4)\n",
    "\n",
    "# Morphological Opening\n",
    "a30_5 = opening(a30)\n",
    "A5 = calculate_snr(image, a30_5)\n",
    "cv2.imwrite('a30_5.png', np.array(a30_5, dtype='uint8'))\n",
    "print(\"a30_5 (Morphological Opening): \", A5)\n",
    "\n",
    "# Morphological Closing\n",
    "a30_6 = closing(a30)\n",
    "A6 = calculate_snr(image, a30_6)\n",
    "cv2.imwrite('a30_6.png', np.array(a30_6, dtype='uint8'))\n",
    "print(\"a30_6 (Morphological Closing): \", A6)\n"
   ]
  },
  {
   "cell_type": "code",
   "execution_count": 42,
   "id": "cb3633c4",
   "metadata": {},
   "outputs": [
    {
     "name": "stdout",
     "output_type": "stream",
     "text": [
      "255\n",
      "b005_1 (3x3 Box Filter):  9.285375338376397\n",
      "b005_2 (5x5 Box Filter):  10.617402222995093\n",
      "b005_3 (3x3 Median Filter):  17.511552710051834\n",
      "b005_4 (5x5 Median Filter):  14.633861581177502\n",
      "b005_5 (Morphological Opening):  0.17703731339398174\n",
      "b005_6 (Morphological Closing):  -0.06076298430814275\n"
     ]
    }
   ],
   "source": [
    "# 3x3 Box Filter\n",
    "b005_1 = box_filter3(b005)\n",
    "A1 = calculate_snr(image, b005_1)\n",
    "cv2.imwrite('b005_1.png', np.array(b005_1, dtype='uint8'))\n",
    "print(\"b005_1 (3x3 Box Filter): \", A1)\n",
    "\n",
    "# 5x5 Box Filter\n",
    "b005_2 = box_filter5(b005)\n",
    "A2 = calculate_snr(image, b005_2)\n",
    "cv2.imwrite('b005_2.png', np.array(b005_2, dtype='uint8'))\n",
    "print(\"b005_2 (5x5 Box Filter): \", A2)\n",
    "\n",
    "# 3x3 Median Filter\n",
    "b005_3 = median_filter3(b005)\n",
    "A3 = calculate_snr(image, b005_3)\n",
    "cv2.imwrite('b005_3.png', np.array(b005_3, dtype='uint8'))\n",
    "print(\"b005_3 (3x3 Median Filter): \", A3)\n",
    "\n",
    "# 5x5 Median Filter\n",
    "b005_4 = median_filter5(b005)\n",
    "A4 = calculate_snr(image, b005_4)\n",
    "cv2.imwrite('b005_4.png', np.array(b005_4, dtype='uint8'))\n",
    "print(\"b005_4 (5x5 Median Filter): \", A4)\n",
    "\n",
    "# Morphological Opening\n",
    "b005_5 = opening(b005)\n",
    "A5 = calculate_snr(image, b005_5)\n",
    "cv2.imwrite('b005_5.png', np.array(b005_5, dtype='uint8'))\n",
    "print(\"b005_5 (Morphological Opening): \", A5)\n",
    "\n",
    "# Morphological Closing\n",
    "b005_6 = closing(b005)\n",
    "A6 = calculate_snr(image, b005_6)\n",
    "cv2.imwrite('b005_6.png', np.array(b005_6, dtype='uint8'))\n",
    "print(\"b005_6 (Morphological Closing): \", A6)\n"
   ]
  },
  {
   "cell_type": "code",
   "execution_count": 43,
   "id": "f13c7fcd",
   "metadata": {},
   "outputs": [
    {
     "name": "stdout",
     "output_type": "stream",
     "text": [
      "157\n",
      "b01_1 (3x3 Box Filter):  6.172854416513415\n",
      "b01_2 (5x5 Box Filter):  7.859545407094043\n",
      "b01_3 (3x3 Median Filter):  13.766479581725058\n",
      "b01_4 (5x5 Median Filter):  12.870879705986937\n",
      "b01_5 (Morphological Opening):  -2.8711806479940165\n",
      "b01_6 (Morphological Closing):  -3.2661131461425437\n"
     ]
    }
   ],
   "source": [
    "# 3x3 Box Filter\n",
    "b01_1 = box_filter3(b01)\n",
    "A1 = calculate_snr(image, b01_1)\n",
    "cv2.imwrite('b01_1.png', np.array(b01_1, dtype='uint8'))\n",
    "print(\"b01_1 (3x3 Box Filter): \", A1)\n",
    "\n",
    "# 5x5 Box Filter\n",
    "b01_2 = box_filter5(b01)\n",
    "A2 = calculate_snr(image, b01_2)\n",
    "cv2.imwrite('b01_2.png', np.array(b01_2, dtype='uint8'))\n",
    "print(\"b01_2 (5x5 Box Filter): \", A2)\n",
    "\n",
    "# 3x3 Median Filter\n",
    "b01_3 = median_filter3(b01)\n",
    "A3 = calculate_snr(image, b01_3)\n",
    "cv2.imwrite('b01_3.png', np.array(b01_3, dtype='uint8'))\n",
    "print(\"b01_3 (3x3 Median Filter): \", A3)\n",
    "\n",
    "# 5x5 Median Filter\n",
    "b01_4 = median_filter5(b01)\n",
    "A4 = calculate_snr(image, b01_4)\n",
    "cv2.imwrite('b01_4.png', np.array(b01_4, dtype='uint8'))\n",
    "print(\"b01_4 (5x5 Median Filter): \", A4)\n",
    "\n",
    "# Morphological Opening\n",
    "b01_5 = opening(b01)\n",
    "A5 = calculate_snr(image, b01_5)\n",
    "cv2.imwrite('b01_5.png', np.array(b01_5, dtype='uint8'))\n",
    "print(\"b01_5 (Morphological Opening): \", A5)\n",
    "\n",
    "# Morphological Closing\n",
    "b01_6 = closing(b01)\n",
    "A6 = calculate_snr(image, b01_6)\n",
    "cv2.imwrite('b01_6.png', np.array(b01_6, dtype='uint8'))\n",
    "print(\"b01_6 (Morphological Closing): \", A6)\n"
   ]
  },
  {
   "cell_type": "code",
   "execution_count": null,
   "id": "9ed51a27",
   "metadata": {},
   "outputs": [],
   "source": []
  }
 ],
 "metadata": {
  "kernelspec": {
   "display_name": "Python 3 (ipykernel)",
   "language": "python",
   "name": "python3"
  },
  "language_info": {
   "codemirror_mode": {
    "name": "ipython",
    "version": 3
   },
   "file_extension": ".py",
   "mimetype": "text/x-python",
   "name": "python",
   "nbconvert_exporter": "python",
   "pygments_lexer": "ipython3",
   "version": "3.9.13"
  }
 },
 "nbformat": 4,
 "nbformat_minor": 5
}
